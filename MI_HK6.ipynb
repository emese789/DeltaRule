{
  "nbformat": 4,
  "nbformat_minor": 0,
  "metadata": {
    "colab": {
      "name": "MI_HK6.ipynb",
      "provenance": [],
      "collapsed_sections": []
    },
    "kernelspec": {
      "name": "python3",
      "display_name": "Python 3"
    }
  },
  "cells": [
    {
      "cell_type": "code",
      "metadata": {
        "id": "U-hfkXFpkwNF",
        "colab_type": "code",
        "outputId": "f6d8c8c7-f519-436d-85b1-3937711cbbf0",
        "colab": {
          "base_uri": "https://localhost:8080/",
          "height": 34
        }
      },
      "source": [
        "from google.colab import drive\n",
        "drive.mount('../content/drive')"
      ],
      "execution_count": 71,
      "outputs": [
        {
          "output_type": "stream",
          "text": [
            "Drive already mounted at ../content/drive; to attempt to forcibly remount, call drive.mount(\"../content/drive\", force_remount=True).\n"
          ],
          "name": "stdout"
        }
      ]
    },
    {
      "cell_type": "code",
      "metadata": {
        "id": "RKRkBj5eA9pH",
        "colab_type": "code",
        "colab": {}
      },
      "source": [
        "from numpy import array,random,transpose,dot,subtract,zeros,ones,reshape\n",
        "import os\n",
        "import matplotlib.pyplot as plt\n",
        "import PIL\n",
        "from PIL import Image\n",
        "import numpy as np\n",
        "from sklearn.metrics import confusion_matrix\n",
        "from scipy import stats"
      ],
      "execution_count": 0,
      "outputs": []
    },
    {
      "cell_type": "code",
      "metadata": {
        "id": "g99GpFG60Qqa",
        "colab_type": "code",
        "outputId": "5fd585e4-b8df-4b21-ddf8-8fabe874c127",
        "colab": {
          "base_uri": "https://localhost:8080/",
          "height": 34
        }
      },
      "source": [
        "os.listdir('../content/drive/My Drive/Mesterseges')"
      ],
      "execution_count": 73,
      "outputs": [
        {
          "output_type": "execute_result",
          "data": {
            "text/plain": [
              "['pizza', 'umbrella']"
            ]
          },
          "metadata": {
            "tags": []
          },
          "execution_count": 73
        }
      ]
    },
    {
      "cell_type": "code",
      "metadata": {
        "id": "YETCX9-hIDrZ",
        "colab_type": "code",
        "colab": {}
      },
      "source": [
        "data_path = '../content/drive/My Drive/Mesterseges'"
      ],
      "execution_count": 0,
      "outputs": []
    },
    {
      "cell_type": "code",
      "metadata": {
        "id": "XM1xOAdLd5z6",
        "colab_type": "code",
        "colab": {}
      },
      "source": [
        "def gradf(x):\n",
        "  return sigmoid(x) * (1 - sigmoid(x))"
      ],
      "execution_count": 0,
      "outputs": []
    },
    {
      "cell_type": "code",
      "metadata": {
        "id": "72PAe2Q_BJM5",
        "colab_type": "code",
        "colab": {}
      },
      "source": [
        "def v_gradf(x):\n",
        "    for i in range(len(x)):\n",
        "        x[i][0] = gradf(x[i][0])\n",
        "    return array('f',x)"
      ],
      "execution_count": 0,
      "outputs": []
    },
    {
      "cell_type": "code",
      "metadata": {
        "id": "C3C4gexqcWhJ",
        "colab_type": "code",
        "colab": {}
      },
      "source": [
        "def sigmoid(x):\n",
        "  return 1/(1 + e ** (-x))"
      ],
      "execution_count": 0,
      "outputs": []
    },
    {
      "cell_type": "code",
      "metadata": {
        "id": "vXfkvAdkAyjr",
        "colab_type": "code",
        "colab": {}
      },
      "source": [
        "def v_sigmoid(x):\n",
        "    length = len(x)\n",
        "    for i in range(length):\n",
        "        x[i][0] = sigmoid(x[i][0])\n",
        "    return array('f',x)"
      ],
      "execution_count": 0,
      "outputs": []
    },
    {
      "cell_type": "code",
      "metadata": {
        "id": "qlnbyvOGcdal",
        "colab_type": "code",
        "colab": {}
      },
      "source": [
        "def stop(E,epoch):\n",
        "  if epoch > 10000:\n",
        "    return true\n",
        "  if E < 0.01:\n",
        "    return true\n",
        "  return false\n",
        "    "
      ],
      "execution_count": 0,
      "outputs": []
    },
    {
      "cell_type": "code",
      "metadata": {
        "id": "JxDqAWR4CMWm",
        "colab_type": "code",
        "colab": {}
      },
      "source": [
        "def mul(v1, v2, ln):\n",
        "    v3 = zeros((ln, 1))\n",
        "    for i in range(ln):\n",
        "        v3[i][0] = v1[i][0]*v2[i][0]\n",
        "    return v3"
      ],
      "execution_count": 0,
      "outputs": []
    },
    {
      "cell_type": "code",
      "metadata": {
        "id": "ZqEfbeLBjDYA",
        "colab_type": "code",
        "colab": {}
      },
      "source": [
        "def Predict(x,f,w):\n",
        "  y = zeros((len(x), len(w)))\n",
        "  for i in range(len(x)):\n",
        "    y[i][0]=f[x[i][0]*w]"
      ],
      "execution_count": 0,
      "outputs": []
    },
    {
      "cell_type": "code",
      "metadata": {
        "id": "CZv6II_b1T-a",
        "colab_type": "code",
        "colab": {}
      },
      "source": [
        "def OfflineLearning(x, d , f, gradf, lr, stop):\n",
        "  n = len(x[0])\n",
        "  a = len(d,2)\n",
        "  w = random.randn(n,a)\n",
        "  epoch = 0\n",
        "  while True:\n",
        "    v = x * w\n",
        "    y = f(v)\n",
        "    e = subtract(y, d)\n",
        "    g = transpose(x)\n",
        "    m = mul(e, v_gradf(v), 74)\n",
        "    g = g.dot(mul(e, v_gradf(v), 74))\n",
        "    w = subtract(w,(lr*g))\n",
        "    E = 0\n",
        "    for i in range(1,e):\n",
        "      E += i**2\n",
        "    if stop(E, epoch):\n",
        "      break\n",
        "    epoch = epoch + 1\n",
        "  return w, E"
      ],
      "execution_count": 0,
      "outputs": []
    },
    {
      "cell_type": "code",
      "metadata": {
        "id": "eY6QZg3-49E0",
        "colab_type": "code",
        "colab": {}
      },
      "source": [
        "def loadFolder (folder):\n",
        "  files = os.listdir(folder)\n",
        "  N = len(files)\n",
        "  img1 = []\n",
        "  for i in range(N):\n",
        "    p = folder + '/' + files[i]\n",
        "    x = Image.open(p)\n",
        "    x = x.resize((64,64),PIL.Image.ANTIALIAS)\n",
        "    plt.imshow(x)\n",
        "    img1.append(x)\n",
        "  return img1,N"
      ],
      "execution_count": 0,
      "outputs": []
    },
    {
      "cell_type": "code",
      "metadata": {
        "id": "dILTI0t6AtT7",
        "colab_type": "code",
        "colab": {}
      },
      "source": [
        "def load(trainTestRatio):\n",
        "  img0,N0 = loadFolder(data_path+'/pizza')\n",
        "  img1,N1 = loadFolder(data_path+'/umbrella')\n",
        "  N = N0 + N1\n",
        "  img=[[img0],[img1]]\n",
        "  p = np.random.permutation(N)\n",
        "  d = [[np.zeros((N0,1))],[np.ones((N1,1))]]\n",
        "  #d = d(p)\n",
        "  #X = stats.zscore(img[p][:])\n",
        "  n = round(N * trainTestRatio)\n",
        "  xTrain = X[1:n][:]\n",
        "  xTest = X[n+1:end][:]\n",
        "  dTrain = d[1:n]\n",
        "  dTest = d[n+1:end]\n",
        "  imgTest = img[p[n+1:end]][:]\n",
        "  return xTrain,xTest,dTrain,dTest,imgTest\n",
        " "
      ],
      "execution_count": 0,
      "outputs": []
    },
    {
      "cell_type": "code",
      "metadata": {
        "id": "vfUgL3tSIGaa",
        "colab_type": "code",
        "outputId": "66b5c475-87f4-4dac-cf16-74d218ce9f11",
        "colab": {
          "base_uri": "https://localhost:8080/",
          "height": 1000
        }
      },
      "source": [
        "loadFolder(data_path+'/pizza')"
      ],
      "execution_count": 105,
      "outputs": [
        {
          "output_type": "execute_result",
          "data": {
            "text/plain": [
              "([<PIL.Image.Image image mode=RGB size=64x64 at 0x7F6860B862B0>,\n",
              "  <PIL.Image.Image image mode=RGB size=64x64 at 0x7F6860B9EE48>,\n",
              "  <PIL.Image.Image image mode=RGB size=64x64 at 0x7F6860BAB198>,\n",
              "  <PIL.Image.Image image mode=RGB size=64x64 at 0x7F6860BAB4A8>,\n",
              "  <PIL.Image.Image image mode=RGB size=64x64 at 0x7F6860BAB7B8>,\n",
              "  <PIL.Image.Image image mode=RGB size=64x64 at 0x7F6860BABAC8>,\n",
              "  <PIL.Image.Image image mode=RGB size=64x64 at 0x7F6860B9EB70>,\n",
              "  <PIL.Image.Image image mode=RGB size=64x64 at 0x7F6860B92518>,\n",
              "  <PIL.Image.Image image mode=RGB size=64x64 at 0x7F6860BABDA0>,\n",
              "  <PIL.Image.Image image mode=RGB size=64x64 at 0x7F6860B350B8>,\n",
              "  <PIL.Image.Image image mode=RGB size=64x64 at 0x7F6860B35390>,\n",
              "  <PIL.Image.Image image mode=RGB size=64x64 at 0x7F6860B35668>,\n",
              "  <PIL.Image.Image image mode=RGB size=64x64 at 0x7F6860B35940>,\n",
              "  <PIL.Image.Image image mode=RGB size=64x64 at 0x7F6860B35C18>,\n",
              "  <PIL.Image.Image image mode=RGB size=64x64 at 0x7F6860B35EB8>,\n",
              "  <PIL.Image.Image image mode=RGB size=64x64 at 0x7F6860B42198>,\n",
              "  <PIL.Image.Image image mode=RGB size=64x64 at 0x7F6860B42438>,\n",
              "  <PIL.Image.Image image mode=RGB size=64x64 at 0x7F6860B426D8>,\n",
              "  <PIL.Image.Image image mode=RGB size=64x64 at 0x7F6860B42978>,\n",
              "  <PIL.Image.Image image mode=RGB size=64x64 at 0x7F6860B42C18>,\n",
              "  <PIL.Image.Image image mode=RGB size=64x64 at 0x7F6860B42EB8>,\n",
              "  <PIL.Image.Image image mode=RGB size=64x64 at 0x7F6860B50198>,\n",
              "  <PIL.Image.Image image mode=RGB size=64x64 at 0x7F6860B50438>,\n",
              "  <PIL.Image.Image image mode=RGB size=64x64 at 0x7F6860B506D8>,\n",
              "  <PIL.Image.Image image mode=RGB size=64x64 at 0x7F6860B50978>,\n",
              "  <PIL.Image.Image image mode=RGB size=64x64 at 0x7F6860B50C18>,\n",
              "  <PIL.Image.Image image mode=RGB size=64x64 at 0x7F6860B50EB8>,\n",
              "  <PIL.Image.Image image mode=RGB size=64x64 at 0x7F6860B60198>,\n",
              "  <PIL.Image.Image image mode=RGB size=64x64 at 0x7F6860B60438>,\n",
              "  <PIL.Image.Image image mode=RGB size=64x64 at 0x7F6860B606D8>,\n",
              "  <PIL.Image.Image image mode=RGB size=64x64 at 0x7F6860B60978>,\n",
              "  <PIL.Image.Image image mode=RGB size=64x64 at 0x7F6860B60C18>,\n",
              "  <PIL.Image.Image image mode=RGB size=64x64 at 0x7F6860B60EB8>,\n",
              "  <PIL.Image.Image image mode=RGB size=64x64 at 0x7F6860B6C198>,\n",
              "  <PIL.Image.Image image mode=RGB size=64x64 at 0x7F6860B6C438>,\n",
              "  <PIL.Image.Image image mode=L size=64x64 at 0x7F6860B6C6D8>,\n",
              "  <PIL.Image.Image image mode=RGB size=64x64 at 0x7F6860B6C978>,\n",
              "  <PIL.Image.Image image mode=RGB size=64x64 at 0x7F6860B6CC18>,\n",
              "  <PIL.Image.Image image mode=RGB size=64x64 at 0x7F6860B6CE80>,\n",
              "  <PIL.Image.Image image mode=RGB size=64x64 at 0x7F6860AFB160>,\n",
              "  <PIL.Image.Image image mode=RGB size=64x64 at 0x7F6860AFB400>,\n",
              "  <PIL.Image.Image image mode=RGB size=64x64 at 0x7F6860AFB6A0>,\n",
              "  <PIL.Image.Image image mode=RGB size=64x64 at 0x7F6860AFB940>,\n",
              "  <PIL.Image.Image image mode=RGB size=64x64 at 0x7F6860AFBBE0>,\n",
              "  <PIL.Image.Image image mode=RGB size=64x64 at 0x7F6860AFBE80>,\n",
              "  <PIL.Image.Image image mode=RGB size=64x64 at 0x7F6860B08160>,\n",
              "  <PIL.Image.Image image mode=RGB size=64x64 at 0x7F6860B08400>,\n",
              "  <PIL.Image.Image image mode=RGB size=64x64 at 0x7F6860B086A0>,\n",
              "  <PIL.Image.Image image mode=RGB size=64x64 at 0x7F6860B08940>,\n",
              "  <PIL.Image.Image image mode=RGB size=64x64 at 0x7F6860B08BE0>,\n",
              "  <PIL.Image.Image image mode=RGB size=64x64 at 0x7F6860B08E80>,\n",
              "  <PIL.Image.Image image mode=RGB size=64x64 at 0x7F6860B15160>,\n",
              "  <PIL.Image.Image image mode=RGB size=64x64 at 0x7F6860B15400>],\n",
              " 53)"
            ]
          },
          "metadata": {
            "tags": []
          },
          "execution_count": 105
        },
        {
          "output_type": "display_data",
          "data": {
            "image/png": "[encoded data removed]",
            "text/plain": [
              "<Figure size 432x288 with 1 Axes>"
            ]
          },
          "metadata": {
            "tags": []
          }
        }
      ]
    },
    {
      "cell_type": "code",
      "metadata": {
        "id": "s8Ag4lkrefcb",
        "colab_type": "code",
        "colab": {}
      },
      "source": [
        "def Draw(predicted,actual,x):\n",
        "  c =['pizza','umbrella']\n",
        "  nrows = 6\n",
        "  ncols = 6\n",
        "  predicted = predicted +1\n",
        "  actual = actual +1\n",
        "  for i in range(nrows):\n",
        "    for j in range(ncols):\n",
        "      k = (i-1)*ncols + j\n",
        "      img = np.uint8(reshape(x[k,:],64,64))\n",
        "      plt.imshow(img)\n",
        "      plt.xlabel(c(predicted(k)))\n",
        "  confusion_matrix(c(actual), c(predicted))"
      ],
      "execution_count": 0,
      "outputs": []
    },
    {
      "cell_type": "code",
      "metadata": {
        "id": "Wa3DdOYpIGZv",
        "colab_type": "code",
        "colab": {}
      },
      "source": [
        "def pizzaVsUmbrella():\n",
        "  trainTestRatio = 0.5\n",
        "  lr = 0.0005\n",
        "  xTrain,xTest,dTrain,dTest,imgTest=load(trainTestRatio)\n",
        "  w,E = OfflineLearning(xTrain,dTrain,gradf,lr,stop)\n",
        "  y = Predict(xTest,f,w)\n",
        "\n",
        "  Draw(y,dTest,imgTest)\n",
        "  "
      ],
      "execution_count": 0,
      "outputs": []
    },
    {
      "cell_type": "code",
      "metadata": {
        "id": "Njx1K8l0AZOu",
        "colab_type": "code",
        "outputId": "bc374f7f-aae1-48ec-bff2-83dc8ee64584",
        "colab": {
          "base_uri": "https://localhost:8080/",
          "height": 588
        }
      },
      "source": [
        "pizzaVsUmbrella()"
      ],
      "execution_count": 108,
      "outputs": [
        {
          "output_type": "error",
          "ename": "TypeError",
          "evalue": "ignored",
          "traceback": [
            "\u001b[0;31m---------------------------------------------------------------------------\u001b[0m",
            "\u001b[0;31mTypeError\u001b[0m                                 Traceback (most recent call last)",
            "\u001b[0;32m<ipython-input-108-9008ce0dd631>\u001b[0m in \u001b[0;36m<module>\u001b[0;34m()\u001b[0m\n\u001b[0;32m----> 1\u001b[0;31m \u001b[0mpizzaVsUmbrella\u001b[0m\u001b[0;34m(\u001b[0m\u001b[0;34m)\u001b[0m\u001b[0;34m\u001b[0m\u001b[0;34m\u001b[0m\u001b[0m\n\u001b[0m",
            "\u001b[0;32m<ipython-input-107-77bc6c440cd8>\u001b[0m in \u001b[0;36mpizzaVsUmbrella\u001b[0;34m()\u001b[0m\n\u001b[1;32m      2\u001b[0m   \u001b[0mtrainTestRatio\u001b[0m \u001b[0;34m=\u001b[0m \u001b[0;36m0.5\u001b[0m\u001b[0;34m\u001b[0m\u001b[0;34m\u001b[0m\u001b[0m\n\u001b[1;32m      3\u001b[0m   \u001b[0mlr\u001b[0m \u001b[0;34m=\u001b[0m \u001b[0;36m0.0005\u001b[0m\u001b[0;34m\u001b[0m\u001b[0;34m\u001b[0m\u001b[0m\n\u001b[0;32m----> 4\u001b[0;31m   \u001b[0mxTrain\u001b[0m\u001b[0;34m,\u001b[0m\u001b[0mxTest\u001b[0m\u001b[0;34m,\u001b[0m\u001b[0mdTrain\u001b[0m\u001b[0;34m,\u001b[0m\u001b[0mdTest\u001b[0m\u001b[0;34m,\u001b[0m\u001b[0mimgTest\u001b[0m\u001b[0;34m=\u001b[0m\u001b[0mload\u001b[0m\u001b[0;34m(\u001b[0m\u001b[0mtrainTestRatio\u001b[0m\u001b[0;34m)\u001b[0m\u001b[0;34m\u001b[0m\u001b[0;34m\u001b[0m\u001b[0m\n\u001b[0m\u001b[1;32m      5\u001b[0m   \u001b[0mw\u001b[0m\u001b[0;34m,\u001b[0m\u001b[0mE\u001b[0m \u001b[0;34m=\u001b[0m \u001b[0mOfflineLearning\u001b[0m\u001b[0;34m(\u001b[0m\u001b[0mxTrain\u001b[0m\u001b[0;34m,\u001b[0m\u001b[0mdTrain\u001b[0m\u001b[0;34m,\u001b[0m\u001b[0mgradf\u001b[0m\u001b[0;34m,\u001b[0m\u001b[0mlr\u001b[0m\u001b[0;34m,\u001b[0m\u001b[0mstop\u001b[0m\u001b[0;34m)\u001b[0m\u001b[0;34m\u001b[0m\u001b[0;34m\u001b[0m\u001b[0m\n\u001b[1;32m      6\u001b[0m   \u001b[0my\u001b[0m \u001b[0;34m=\u001b[0m \u001b[0mPredict\u001b[0m\u001b[0;34m(\u001b[0m\u001b[0mxTest\u001b[0m\u001b[0;34m,\u001b[0m\u001b[0mf\u001b[0m\u001b[0;34m,\u001b[0m\u001b[0mw\u001b[0m\u001b[0;34m)\u001b[0m\u001b[0;34m\u001b[0m\u001b[0;34m\u001b[0m\u001b[0m\n",
            "\u001b[0;32m<ipython-input-104-2f2b21e92019>\u001b[0m in \u001b[0;36mload\u001b[0;34m(trainTestRatio)\u001b[0m\n\u001b[1;32m      6\u001b[0m   \u001b[0mp\u001b[0m \u001b[0;34m=\u001b[0m \u001b[0mrandom\u001b[0m\u001b[0;34m.\u001b[0m\u001b[0mpermutation\u001b[0m\u001b[0;34m(\u001b[0m\u001b[0mN\u001b[0m\u001b[0;34m)\u001b[0m\u001b[0;34m\u001b[0m\u001b[0;34m\u001b[0m\u001b[0m\n\u001b[1;32m      7\u001b[0m   \u001b[0md\u001b[0m \u001b[0;34m=\u001b[0m \u001b[0;34m[\u001b[0m\u001b[0;34m[\u001b[0m\u001b[0mnp\u001b[0m\u001b[0;34m.\u001b[0m\u001b[0mzeros\u001b[0m\u001b[0;34m(\u001b[0m\u001b[0;34m(\u001b[0m\u001b[0mN0\u001b[0m\u001b[0;34m,\u001b[0m\u001b[0;36m1\u001b[0m\u001b[0;34m)\u001b[0m\u001b[0;34m)\u001b[0m\u001b[0;34m]\u001b[0m\u001b[0;34m,\u001b[0m\u001b[0;34m[\u001b[0m\u001b[0mnp\u001b[0m\u001b[0;34m.\u001b[0m\u001b[0mones\u001b[0m\u001b[0;34m(\u001b[0m\u001b[0;34m(\u001b[0m\u001b[0mN1\u001b[0m\u001b[0;34m,\u001b[0m\u001b[0;36m1\u001b[0m\u001b[0;34m)\u001b[0m\u001b[0;34m)\u001b[0m\u001b[0;34m]\u001b[0m\u001b[0;34m]\u001b[0m\u001b[0;34m\u001b[0m\u001b[0;34m\u001b[0m\u001b[0m\n\u001b[0;32m----> 8\u001b[0;31m   \u001b[0md\u001b[0m \u001b[0;34m=\u001b[0m \u001b[0mnp\u001b[0m\u001b[0;34m.\u001b[0m\u001b[0mconcatenate\u001b[0m\u001b[0;34m(\u001b[0m\u001b[0md\u001b[0m\u001b[0;34m,\u001b[0m\u001b[0;34m[\u001b[0m\u001b[0mp\u001b[0m\u001b[0;34m]\u001b[0m\u001b[0;34m)\u001b[0m\u001b[0;34m\u001b[0m\u001b[0;34m\u001b[0m\u001b[0m\n\u001b[0m\u001b[1;32m      9\u001b[0m   \u001b[0;31m#X = stats.zscore(img[p][:])\u001b[0m\u001b[0;34m\u001b[0m\u001b[0;34m\u001b[0m\u001b[0;34m\u001b[0m\u001b[0m\n\u001b[1;32m     10\u001b[0m   \u001b[0mn\u001b[0m \u001b[0;34m=\u001b[0m \u001b[0mround\u001b[0m\u001b[0;34m(\u001b[0m\u001b[0mN\u001b[0m \u001b[0;34m*\u001b[0m \u001b[0mtrainTestRatio\u001b[0m\u001b[0;34m)\u001b[0m\u001b[0;34m\u001b[0m\u001b[0;34m\u001b[0m\u001b[0m\n",
            "\u001b[0;32m<__array_function__ internals>\u001b[0m in \u001b[0;36mconcatenate\u001b[0;34m(*args, **kwargs)\u001b[0m\n",
            "\u001b[0;31mTypeError\u001b[0m: 'list' object cannot be interpreted as an integer"
          ]
        },
        {
          "output_type": "display_data",
          "data": {
            "image/png": "[encoded data removed]",
            "text/plain": [
              "<Figure size 432x288 with 1 Axes>"
            ]
          },
          "metadata": {
            "tags": []
          }
        }
      ]
    },
    {
      "cell_type": "code",
      "metadata": {
        "id": "7Zkeb5TqFnNk",
        "colab_type": "code",
        "colab": {}
      },
      "source": [
        ""
      ],
      "execution_count": 0,
      "outputs": []
    }
  ]
}